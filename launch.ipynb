{
 "cells": [
  {
   "cell_type": "code",
   "execution_count": null,
   "metadata": {},
   "outputs": [],
   "source": [
    "import sqlite3\n",
    "\n",
    "con = sqlite3.connect(\"example3.db\")\n",
    "cur = con.cursor()\n",
    "cur.execute(\"CREATE TABLE word_list ( numLetter INT,letter VARCHAR(10) NOT NULL,differentLetters VARCHAR(45) NOT NULL, word VARCHAR(45) NOT NULL, PRIMARY KEY (word))\")"
   ]
  },
  {
   "cell_type": "code",
   "execution_count": null,
   "metadata": {},
   "outputs": [],
   "source": [
    "import requests\n",
    "import json\n",
    "import numpy as np\n",
    "import sqlite3\n",
    "import pandas as pd\n",
    "\n",
    "letterArray = ['a', 'b', 'c', 'd', 'e', 'f', 'g', 'h', 'i', 'j', 'k', 'l',\n",
    "               'm', 'n', 'o', 'p', 'q', 'r', 's', 't', 'u', 'v', 'w', 'x', 'y', 'z']\n",
    "\n",
    "\n",
    "\n",
    "for letter in letterArray:\n",
    "    resp = requests.get('https://www.wordgamedictionary.com/word-lists/words-that-start-with/letter/'+letter+'/words-that-start-with-'+letter+'.json')\n",
    "\n",
    "    JSONWord = resp.json()\n",
    "    # Depuraitng words, first, we delete all the words with less than 4 letters and then, delete all the words with more than 7 different letters\n",
    "    wordsDF = pd.DataFrame(JSONWord)\n",
    "    lengthMaks = wordsDF.word.str.len() > 3 #maske to delete the words with less then 4 letters\n",
    "    wordsDF = wordsDF[lengthMaks]\n",
    "\n",
    "    numberLettersMask = [len(set(list(word))) < 8 for word in wordsDF.word]# list of booleans saying if a word has more than 7 differtent letters or not\n",
    "    wordsDF = wordsDF[numberLettersMask]#apply the list as a mask\n",
    "    letterList = [''.join(set(list(word))) for word in wordsDF.word]# list of differtent letters in each word\n",
    "    lengthList = [len(word) for word in wordsDF.word]\n",
    "    dbList = list(zip(lengthList,[letter]*len(wordsDF), letterList, wordsDF.word))#join both list and the letter\n",
    "\n",
    "    con = sqlite3.connect(\"example3.db\")\n",
    "    cur = con.cursor()\n",
    "    cur.executemany(\n",
    "        \"INSERT INTO word_list (numLetter,letter,differentLetters , word) VALUES (?, ?, ?, ?);\", dbList)\n",
    "    con.commit()\n",
    "    con.close()\n"
   ]
  }
 ],
 "metadata": {
  "kernelspec": {
   "display_name": "Python 3",
   "language": "python",
   "name": "python3"
  },
  "language_info": {
   "name": "python",
   "version": "3.10.9"
  },
  "orig_nbformat": 4,
  "vscode": {
   "interpreter": {
    "hash": "e7370f93d1d0cde622a1f8e1c04877d8463912d04d973331ad4851f04de6915a"
   }
  }
 },
 "nbformat": 4,
 "nbformat_minor": 2
}
