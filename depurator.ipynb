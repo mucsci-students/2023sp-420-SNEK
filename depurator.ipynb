{
 "cells": [
  {
   "cell_type": "code",
   "execution_count": 1,
   "metadata": {},
   "outputs": [
    {
     "data": {
      "text/plain": [
       "<sqlite3.Cursor at 0x28eb91107a0>"
      ]
     },
     "execution_count": 1,
     "metadata": {},
     "output_type": "execute_result"
    }
   ],
   "source": [
    "import sqlite3\n",
    "\n",
    "con = sqlite3.connect(\"example3.db\")\n",
    "cur = con.cursor()\n",
    "cur.execute(\"CREATE TABLE word_list ( numLetter INT,letter VARCHAR(10) NOT NULL,differentLetters VARCHAR(45) NOT NULL, word VARCHAR(45) NOT NULL, PRIMARY KEY (word))\")"
   ]
  },
  {
   "cell_type": "code",
   "execution_count": 1,
   "metadata": {},
   "outputs": [
    {
     "name": "stdout",
     "output_type": "stream",
     "text": [
      "('y', 'babbitry', 'babbitry')\n",
      "('g', 'abgint', 'babbitting')\n"
     ]
    }
   ],
   "source": [
    "import sqlite3\n",
    "\n",
    "con = sqlite3.connect(\"example.db\")\n",
    "cur = con.cursor()\n",
    "cur.execute(\"SELECT* FROM `word_list`\")\n",
    "output = cur.fetchall()\n",
    "for row in output:\n",
    "    print(row)"
   ]
  },
  {
   "cell_type": "code",
   "execution_count": 13,
   "metadata": {},
   "outputs": [
    {
     "name": "stdout",
     "output_type": "stream",
     "text": [
      "babbitting\n",
      "babydoll\n",
      "babydoll\n",
      "['a' 'b' 'd' 'l' 'o' 'y']\n"
     ]
    }
   ],
   "source": [
    "import requests\n",
    "import json\n",
    "import numpy as np\n",
    "import sqlite3\n",
    "import pandas as pd\n",
    "\n",
    "con = sqlite3.connect(\"example.db\")\n",
    "cur = con.cursor()\n",
    "\n",
    "resp = requests.get('https://www.wordgamedictionary.com/word-lists/words-that-start-with/letter/b/words-that-start-with-b.json')\n",
    "\n",
    "JSONWord = resp.json()\n",
    "\n",
    "#for i in range(0,JSONWord.shape[1]):\n",
    "depuratingWord = JSONWord[27]['word']\n",
    "depuratingWord = depuratingWord.lower()\n",
    "wordsDF = pd.read_json(JSONWord)\n",
    "print(wordsDF)\n",
    "print(depuratingWord)\n",
    "listOfLetters = []\n",
    "letter = 'c'\n",
    "for letter in depuratingWord:\n",
    "    listOfLetters.append(letter)\n",
    "\n",
    "cur.execute(\"INSERT INTO word_list (letter,differentLetters , word) VALUES ('\"+letter+\"', '\"+\"\".join(np.unique(listOfLetters))+\"', '\"+depuratingWord+\"');\")\n",
    "con.commit()\n",
    "con.close()\n",
    "\n",
    "print(JSONWord[78]['word'])\n",
    "\n",
    "depuratingWord = JSONWord[78]['word']\n",
    "print(depuratingWord)\n",
    "cadena = \"ejemplo\"\n",
    "listOfLetters = []\n",
    "for letter in depuratingWord:\n",
    "     listOfLetters.append(letter)\n",
    "\n",
    "distinctLetters = {}\n",
    "n = 0\n",
    "print(np.unique(listOfLetters))\n",
    "\n",
    "\n",
    "      \n",
    "\n",
    "\n"
   ]
  },
  {
   "cell_type": "code",
   "execution_count": 2,
   "metadata": {},
   "outputs": [],
   "source": [
    "import requests\n",
    "import json\n",
    "import numpy as np\n",
    "import sqlite3\n",
    "import pandas as pd\n",
    "\n",
    "letterArray = ['a', 'b', 'c', 'd', 'e', 'f', 'g', 'h', 'i', 'j', 'k', 'l',\n",
    "               'm', 'n', 'o', 'p', 'q', 'r', 's', 't', 'u', 'v', 'w', 'x', 'y', 'z']\n",
    "\n",
    "\n",
    "\n",
    "for letter in letterArray:\n",
    "    resp = requests.get('https://www.wordgamedictionary.com/word-lists/words-that-start-with/letter/'+letter+'/words-that-start-with-'+letter+'.json')\n",
    "\n",
    "    JSONWord = resp.json()\n",
    "    # Depuraitng words, first, we delete all the words with less than 4 letters and then, delete all the words with more than 7 different letters\n",
    "    wordsDF = pd.DataFrame(JSONWord)\n",
    "    lengthMaks = wordsDF.word.str.len() > 3 #maske to delete the words with less then 4 letters\n",
    "    wordsDF = wordsDF[lengthMaks]\n",
    "\n",
    "    numberLettersMask = [len(set(list(word))) < 8 for word in wordsDF.word]# list of booleans saying if a word has more than 7 differtent letters or not\n",
    "    wordsDF = wordsDF[numberLettersMask]#apply the list as a mask\n",
    "    letterList = [''.join(set(list(word))) for word in wordsDF.word]# list of differtent letters in each word\n",
    "    lengthList = [len(word) for word in wordsDF.word]\n",
    "    dbList = list(zip(lengthList,[letter]*len(wordsDF), letterList, wordsDF.word))#join both list and the letter\n",
    "\n",
    "    con = sqlite3.connect(\"example3.db\")\n",
    "    cur = con.cursor()\n",
    "    cur.executemany(\n",
    "        \"INSERT INTO word_list (numLetter,letter,differentLetters , word) VALUES (?, ?, ?, ?);\", dbList)\n",
    "    con.commit()\n",
    "    con.close()\n"
   ]
  },
  {
   "cell_type": "code",
   "execution_count": 84,
   "metadata": {},
   "outputs": [
    {
     "name": "stdout",
     "output_type": "stream",
     "text": [
      "['vadkr' 'vadkrs' 'ladwrof' ... 'yuzmrg' 'yzva' 'vyzas']\n",
      "               0\n",
      "2       aardwolf\n",
      "4       aasvogel\n",
      "5      aasvogels\n",
      "8       abalones\n",
      "10     abamperes\n",
      "...          ...\n",
      "79008  zymolysis\n",
      "79009  zymometer\n",
      "79010    zymosan\n",
      "79011   zymosans\n",
      "79014    zymotic\n",
      "\n",
      "[42744 rows x 1 columns]\n",
      "uppropping\n"
     ]
    }
   ],
   "source": [
    "import numpy as np\n",
    "import sqlite3\n",
    "import pandas as pd\n",
    "import random\n",
    "\n",
    "con = sqlite3.connect(\"example3.db\")\n",
    "cur = con.cursor()\n",
    "\n",
    "cur.execute(\n",
    "    \"SELECT word,differentLetters FROM word_list WHERE numLetter = 7 or numLetter > 7\")\n",
    "output = cur.fetchall()\n",
    "treatmentMat = np.array(output)\n",
    "wordDF = (treatmentMat[:,1])\n",
    "depWordDF = pd.DataFrame(treatmentMat[:,0])\n",
    "\n",
    "print(wordDF)\n",
    "boolList = []\n",
    "for word in wordDF:\n",
    "    approved = True\n",
    "    if(len(word) < 7):\n",
    "        approved = False\n",
    "    boolList.append(approved)\n",
    "\n",
    "depWordDF = depWordDF[boolList]\n",
    "print(depWordDF)\n",
    "con.commit()\n",
    "numero = random.randint(0, len(depWordDF)-1)\n",
    "\n",
    "auxList =  list(depWordDF.iloc[numero])\n",
    "\n",
    "con.close()\n",
    "return auxList[0]\n"
   ]
  }
 ],
 "metadata": {
  "kernelspec": {
   "display_name": "base",
   "language": "python",
   "name": "python3"
  },
  "language_info": {
   "codemirror_mode": {
    "name": "ipython",
    "version": 3
   },
   "file_extension": ".py",
   "mimetype": "text/x-python",
   "name": "python",
   "nbconvert_exporter": "python",
   "pygments_lexer": "ipython3",
   "version": "3.8.8"
  },
  "orig_nbformat": 4,
  "vscode": {
   "interpreter": {
    "hash": "ad2bdc8ecc057115af97d19610ffacc2b4e99fae6737bb82f5d7fb13d2f2c186"
   }
  }
 },
 "nbformat": 4,
 "nbformat_minor": 2
}
