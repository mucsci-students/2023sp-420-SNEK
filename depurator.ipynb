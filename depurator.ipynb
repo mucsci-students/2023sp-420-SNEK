{
 "cells": [
  {
   "cell_type": "code",
   "execution_count": 58,
   "metadata": {},
   "outputs": [
    {
     "name": "stdout",
     "output_type": "stream",
     "text": [
      "babydoll\n",
      "babydoll\n",
      "['a' 'b' 'd' 'l' 'o' 'y']\n"
     ]
    }
   ],
   "source": [
    "import requests\n",
    "import json\n",
    "import numpy as np\n",
    "\n",
    "resp = requests.get('https://www.wordgamedictionary.com/word-lists/words-that-start-with/letter/b/words-that-start-with-b.json')\n",
    "\n",
    "JSONWord = resp.json()\n",
    "\n",
    "\n",
    "print(JSONWord[78]['word'])\n",
    "\n",
    "depuratingWord = JSONWord[78]['word']\n",
    "print(depuratingWord)\n",
    "cadena = \"ejemplo\"\n",
    "listOfLetters = []\n",
    "for letter in depuratingWord:\n",
    "     listOfLetters.append(letter)\n",
    "\n",
    "distinctLetters = {}\n",
    "n = 0\n",
    "print(np.unique(listOfLetters))\n",
    "class Word:\n",
    "    letters = []\n",
    "    writtenWord = \"\"\n",
    "    numberOfLetters = 0 \n",
    "    def __init__(self, letters,writtenWord, numberOfLetters):\n",
    "        self.letters = letters\n",
    "        self.writtenWord = writtenWord\n",
    "        self.numberOfLetters = numberOfLetters\n",
    "if len(depuratingWord) > 4:\n",
    " if (len(np.unique(listOfLetters))) < 8:\n",
    "\n",
    "      \n",
    "\n",
    "\n"
   ]
  }
 ],
 "metadata": {
  "kernelspec": {
   "display_name": "Python 3",
   "language": "python",
   "name": "python3"
  },
  "language_info": {
   "codemirror_mode": {
    "name": "ipython",
    "version": 3
   },
   "file_extension": ".py",
   "mimetype": "text/x-python",
   "name": "python",
   "nbconvert_exporter": "python",
   "pygments_lexer": "ipython3",
   "version": "3.9.13"
  },
  "orig_nbformat": 4,
  "vscode": {
   "interpreter": {
    "hash": "cec29b0e50a61ba9d75cf015050048927d9dd75a2874484f33eb75fda63e5101"
   }
  }
 },
 "nbformat": 4,
 "nbformat_minor": 2
}
